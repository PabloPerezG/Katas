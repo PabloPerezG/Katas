{
 "cells": [
  {
   "cell_type": "code",
   "execution_count": null,
   "metadata": {},
   "outputs": [],
   "source": [
    "a = 49\n",
    "b = 25\n",
    "if a >= b:\n",
    "    print('¡Advertencia! El asteroide se acercan a ' + str(a) + 'km/s.')\n",
    "else:\n",
    "    print('El meteorito viaja a ' + str(a) + 'Km/s.')"
   ]
  },
  {
   "cell_type": "code",
   "execution_count": null,
   "metadata": {},
   "outputs": [],
   "source": [
    "a = 19\n",
    "b = 20\n",
    "if a >= b:\n",
    "    print('Busquen un asteroide en el cielo.')\n",
    "else:\n",
    "    print('El asteroide es demsidado lento.')"
   ]
  },
  {
   "cell_type": "code",
   "execution_count": null,
   "metadata": {},
   "outputs": [],
   "source": [
    "a = 25\n",
    "b = 40\n",
    "c = 25\n",
    "d = 20\n",
    "if a > c and b > c:\n",
    "    print('¡Advertencia un asteroide peligroso se acerca a la tierra!')\n",
    "elif a >= d:\n",
    "    print('Se puede ver la luz del asteroide.')\n",
    "elif a < c:\n",
    "    print('No hay peligro')\n",
    "else:\n",
    "    print('No hay nada en el cielo.')"
   ]
  }
 ],
 "metadata": {
  "interpreter": {
   "hash": "3881c7df2da8deffb732a786db29c8f524baa028c38136937c53774165a3aebb"
  },
  "kernelspec": {
   "display_name": "Python 3.9.10 32-bit",
   "language": "python",
   "name": "python3"
  },
  "language_info": {
   "codemirror_mode": {
    "name": "ipython",
    "version": 3
   },
   "file_extension": ".py",
   "mimetype": "text/x-python",
   "name": "python",
   "nbconvert_exporter": "python",
   "pygments_lexer": "ipython3",
   "version": "3.9.10"
  },
  "orig_nbformat": 4
 },
 "nbformat": 4,
 "nbformat_minor": 2
}
