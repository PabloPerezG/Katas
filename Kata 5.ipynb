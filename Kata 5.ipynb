{
 "cells": [
  {
   "cell_type": "code",
   "execution_count": null,
   "metadata": {},
   "outputs": [],
   "source": [
    "T = 149597870\n",
    "J = 778547200"
   ]
  },
  {
   "cell_type": "code",
   "execution_count": null,
   "metadata": {},
   "outputs": [],
   "source": [
    "distacia = J - T\n",
    "print(distacia)\n",
    "\n",
    "millas = distacia * 0.621\n",
    "print(millas)\n"
   ]
  },
  {
   "cell_type": "code",
   "execution_count": null,
   "metadata": {},
   "outputs": [],
   "source": [
    "P1 = input('Distancia al sol del primer planeta')\n",
    "P2 = input('Distancia al sol del segundo planeta')"
   ]
  },
  {
   "cell_type": "code",
   "execution_count": null,
   "metadata": {},
   "outputs": [],
   "source": [
    "P1 = int(P1)\n",
    "P2 = int(P2)"
   ]
  },
  {
   "cell_type": "code",
   "execution_count": null,
   "metadata": {},
   "outputs": [],
   "source": [
    "D = P2 - P1\n",
    "print(D)\n",
    "\n",
    "M = D * 0.621\n",
    "print(abs(M))"
   ]
  }
 ],
 "metadata": {
  "interpreter": {
   "hash": "3881c7df2da8deffb732a786db29c8f524baa028c38136937c53774165a3aebb"
  },
  "kernelspec": {
   "display_name": "Python 3.9.10 32-bit",
   "language": "python",
   "name": "python3"
  },
  "language_info": {
   "codemirror_mode": {
    "name": "ipython",
    "version": 3
   },
   "file_extension": ".py",
   "mimetype": "text/x-python",
   "name": "python",
   "nbconvert_exporter": "python",
   "pygments_lexer": "ipython3",
   "version": "3.9.10"
  },
  "orig_nbformat": 4
 },
 "nbformat": 4,
 "nbformat_minor": 2
}
